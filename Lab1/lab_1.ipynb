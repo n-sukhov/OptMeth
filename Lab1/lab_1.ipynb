{
 "cells": [
  {
   "cell_type": "code",
   "execution_count": 3,
   "id": "032c30ca",
   "metadata": {},
   "outputs": [],
   "source": [
    "import numpy as np\n",
    "import matplotlib.pyplot as plt\n",
    "from typing import Callable, Tuple"
   ]
  },
  {
   "cell_type": "markdown",
   "id": "f85bbdfe",
   "metadata": {},
   "source": [
    "Метод золотого сечения"
   ]
  },
  {
   "cell_type": "code",
   "execution_count": null,
   "id": "a3882b8b",
   "metadata": {},
   "outputs": [
    {
     "name": "stdout",
     "output_type": "stream",
     "text": [
      "Найденный минимум: x = -1.090170, f(x) = 0.008131\n",
      "Ожидаемый минимум: x = -1.000000, f(x) = 0.000000\n"
     ]
    }
   ],
   "source": [
    "def golden_section_search(\n",
    "    f: Callable[[float], float], a: float, b: float, epsilon: float = 1e-6, max_iter: int = 100\n",
    ") -> Tuple[float, float]:\n",
    "\n",
    "    K = (np.sqrt(5) - 1) / 2\n",
    "    L0 = b - a\n",
    "    L1 = K * L0\n",
    "    x = b - L1\n",
    "    y = a + L1\n",
    "    \n",
    "    fx = f(x)\n",
    "    fy = f(y)\n",
    "    \n",
    "    for k in range(1, max_iter + 1):\n",
    "        L_next = K * (b - a)\n",
    "        \n",
    "        if fx < fy:\n",
    "            b = y\n",
    "            y = x\n",
    "            fy = fx\n",
    "            x = b - L_next\n",
    "            fx = f(x)\n",
    "        else:\n",
    "            a = x\n",
    "            x = y\n",
    "            fx = fy\n",
    "            y = a + L_next\n",
    "            fy = f(y)\n",
    "        \n",
    "        if L_next < epsilon:\n",
    "            if fx < fy:\n",
    "                x_min = x\n",
    "                f_min = fx\n",
    "            else:\n",
    "                x_min = y\n",
    "                f_min = fy\n",
    "            return x_min, f_min\n",
    "    \n",
    "    if fx < fy:\n",
    "        return x, fx\n",
    "    else:\n",
    "        return y, fy\n"
   ]
  },
  {
   "cell_type": "markdown",
   "id": "d521ab7e",
   "metadata": {},
   "source": [
    "Метод парабол"
   ]
  },
  {
   "cell_type": "code",
   "execution_count": null,
   "id": "d470b036",
   "metadata": {},
   "outputs": [],
   "source": []
  },
  {
   "cell_type": "markdown",
   "id": "8bdbe4c2",
   "metadata": {},
   "source": [
    "Метод Брента"
   ]
  },
  {
   "cell_type": "code",
   "execution_count": null,
   "id": "6a8dbe5f",
   "metadata": {},
   "outputs": [],
   "source": []
  },
  {
   "cell_type": "markdown",
   "id": "4ed2ab2a",
   "metadata": {},
   "source": []
  },
  {
   "cell_type": "code",
   "execution_count": null,
   "id": "a0981c52",
   "metadata": {},
   "outputs": [],
   "source": [
    "def f1(x: float):\n",
    "    return -5*x**5 + 4*x**4 - 12*x**3 + 11*x**2 - 2*x + 1\n",
    "\n",
    "def f2(x: float):\n",
    "    return -(np.log(x-2))**2 + (np.log(10-x))**2 - x**0.2\n",
    "\n",
    "def f3(x: float):\n",
    "    return -3*x * np.sin(0.75*x) + np.exp(-2*x)\n",
    "\n",
    "def f4(x: float):\n",
    "    return np.exp(3*x) + 5*np.exp(-2*x)\n",
    "\n",
    "def f5(x: float):\n",
    "    return 0.2*x * np.log(x) + (x-2.3)**2"
   ]
  },
  {
   "cell_type": "markdown",
   "id": "d82eb034",
   "metadata": {},
   "source": []
  },
  {
   "cell_type": "code",
   "execution_count": null,
   "id": "407ba087",
   "metadata": {},
   "outputs": [],
   "source": []
  },
  {
   "cell_type": "markdown",
   "id": "602f5d29",
   "metadata": {},
   "source": []
  },
  {
   "cell_type": "code",
   "execution_count": null,
   "id": "0bcbdd32",
   "metadata": {},
   "outputs": [],
   "source": []
  },
  {
   "cell_type": "markdown",
   "id": "17313d4a",
   "metadata": {},
   "source": []
  },
  {
   "cell_type": "code",
   "execution_count": null,
   "id": "a53d342f",
   "metadata": {},
   "outputs": [],
   "source": []
  },
  {
   "cell_type": "markdown",
   "id": "63316a68",
   "metadata": {},
   "source": []
  },
  {
   "cell_type": "code",
   "execution_count": null,
   "id": "0a9f7dcd",
   "metadata": {},
   "outputs": [],
   "source": []
  }
 ],
 "metadata": {
  "kernelspec": {
   "display_name": ".venv",
   "language": "python",
   "name": "python3"
  },
  "language_info": {
   "codemirror_mode": {
    "name": "ipython",
    "version": 3
   },
   "file_extension": ".py",
   "mimetype": "text/x-python",
   "name": "python",
   "nbconvert_exporter": "python",
   "pygments_lexer": "ipython3",
   "version": "3.12.3"
  }
 },
 "nbformat": 4,
 "nbformat_minor": 5
}
