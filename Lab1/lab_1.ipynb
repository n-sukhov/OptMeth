{
 "cells": [
  {
   "cell_type": "code",
   "execution_count": 18,
   "id": "032c30ca",
   "metadata": {},
   "outputs": [],
   "source": [
    "import numpy as np\n",
    "import matplotlib.pyplot as plt\n",
    "from typing import Callable, Tuple"
   ]
  },
  {
   "cell_type": "markdown",
   "id": "f85bbdfe",
   "metadata": {},
   "source": [
    "Метод золотого сечения"
   ]
  },
  {
   "cell_type": "code",
   "execution_count": null,
   "id": "a3882b8b",
   "metadata": {},
   "outputs": [],
   "source": [
    "def golden_ratio_method(\n",
    "    f: Callable[[float], float], a: float, b: float, epsilon: float = 1e-8, max_iter: int = 1000\n",
    ") -> Tuple[float, float]:\n",
    "\n",
    "    K = (np.sqrt(5) - 1) / 2\n",
    "    L0 = b - a\n",
    "    L1 = K * L0\n",
    "    x = b - L1\n",
    "    y = a + L1\n",
    "    \n",
    "    fx, fy= f(x), f(y)\n",
    "    \n",
    "    for k in range(max_iter):\n",
    "        L_next = K * (b - a)\n",
    "        \n",
    "        if fx < fy:\n",
    "            b = y\n",
    "            y = x\n",
    "            fy = fx\n",
    "            x = b - L_next\n",
    "            fx = f(x)\n",
    "        else:\n",
    "            a = x\n",
    "            x = y\n",
    "            fx = fy\n",
    "            y = a + L_next\n",
    "            fy = f(y)\n",
    "        \n",
    "        if L_next < epsilon:\n",
    "            break\n",
    "    \n",
    "\n",
    "    x_min, f_min = x, fx if fx < fy else y, fy\n",
    "    return x_min, f_min\n"
   ]
  },
  {
   "cell_type": "markdown",
   "id": "d521ab7e",
   "metadata": {},
   "source": [
    "Метод парабол"
   ]
  },
  {
   "cell_type": "code",
   "execution_count": null,
   "id": "d470b036",
   "metadata": {},
   "outputs": [],
   "source": [
    "# Явная формула\n",
    "def parabola_method(\n",
    "    f: Callable[[float], float], a: float, c: float, b: float, epsilon: float = 1e-8, max_iter: int = 1000\n",
    ") -> Tuple[float, float]:\n",
    "    \n",
    "    fa, fc, fb = f(a), f(c), f(b)\n",
    "    \n",
    "    for k in range(max_iter):\n",
    "        u = c - ( (c - a)**2 * (f(c) - f(b)) - (c - b)**2 * (f(c) - f(a)) ) /  \\\n",
    "            ( 2 * ((c - a) * (f(c) - f(b)) - (c - b) * (f(c) - f(a))) )\n",
    "        fu = f(u)\n",
    "\n",
    "        if u < c:\n",
    "            if fu < fc:\n",
    "                b, fb = c, fc\n",
    "                c, fc = u, fu\n",
    "            elif fu > fc:\n",
    "                a, fa = u, fu\n",
    "        elif u > c:\n",
    "            if fu < fc:\n",
    "                a, fa = c, fc\n",
    "                c, fc = u, fu\n",
    "        else:\n",
    "            b, fb = u, fu\n",
    "        \n",
    "        if abs(a - c) < epsilon:\n",
    "            break\n",
    "    \n",
    "    x_min = a if fa < fb else b\n",
    "    return x_min, f(x_min)\n",
    "\n",
    "# numpy.linalge.solve\n",
    "def parabola_method_numpy   (\n",
    "    f: Callable[[float], float], a: float, c: float, b: float, epsilon: float = 1e-8, max_iter: int = 1000\n",
    ") -> Tuple[float, float]:\n",
    "    \n",
    "    fa, fc, fb = f(a), f(c), f(b)\n",
    "    \n",
    "    for k in range(max_iter):\n",
    "        A = np.array([\n",
    "            [a**2, a, 1],\n",
    "            [c**2, c, 1],\n",
    "            [b**2, b, 1]\n",
    "        ])\n",
    "        B = np.array([fa, fc, fb])\n",
    "        a_coeff, b_coeff, _ = np.linalg.solve(A, B)\n",
    "        u = -b_coeff / (2 * a_coeff) \n",
    "        fu = f(u)\n",
    "\n",
    "        if u < c:\n",
    "            if fu < fc:\n",
    "                b, fb = c, fc\n",
    "                c, fc = u, fu\n",
    "            elif fu > fc:\n",
    "                a, fa = u, fu\n",
    "        elif u > c:\n",
    "            if fu < fc:\n",
    "                a, fa = c, fc\n",
    "                c, fc = u, fu\n",
    "        else:\n",
    "            b, fb = u, fu\n",
    "        \n",
    "        if abs(a - c) < epsilon:\n",
    "            break\n",
    "    \n",
    "    x_min = a if fa < fb else b\n",
    "    return x_min, f(x_min)"
   ]
  },
  {
   "cell_type": "markdown",
   "id": "8bdbe4c2",
   "metadata": {},
   "source": [
    "Метод Брента"
   ]
  },
  {
   "cell_type": "code",
   "execution_count": null,
   "id": "6a8dbe5f",
   "metadata": {},
   "outputs": [],
   "source": [
    "def brent_method(\n",
    "    f: Callable[[float], float], a: float, b: float, c: float, epsilon: float = 1e-8, max_iter: int = 1000\n",
    ") -> Tuple[float, float]:\n",
    "    x = w = v = c\n",
    "    fx = fw = fv = f(c)\n",
    "    K = (np.sqrt(5) - 1) / 2\n",
    "    \n",
    "    for k in range(max_iter):\n",
    "        u = None\n",
    "\n",
    "        if len({fx, fw, fv}) == 3:\n",
    "            A = np.array([\n",
    "                [x**2, x, 1],\n",
    "                [w**2, w, 1],\n",
    "                [v**2, v, 1]\n",
    "            ])\n",
    "            B = np.array([fx, fw, fv])\n",
    "            a_coeff, b_coeff, _ = np.linalg.solve(A, B)\n",
    "            u = -b_coeff / (2 * a_coeff)\n",
    "                \n",
    "\n",
    "\n",
    "        if np.isnan(u) or u < a or u > b or abs(u - x) > abs(v - b)/2:\n",
    "            # Шаг золотого сечения\n",
    "            if x < (a + b) / 2:\n",
    "                u = x + K * (b - x)\n",
    "            else:\n",
    "                u = x - K * (x - a)\n",
    "\n",
    "        fu = f(u)\n",
    "\n",
    "        # Обновление границ интервала\n",
    "        if fu < fx:\n",
    "            if u < x:\n",
    "                b = x\n",
    "            else:\n",
    "                a = x\n",
    "            v, fv = w, fw\n",
    "            w, fw = x, fx\n",
    "            x, fx = u, fu\n",
    "        else:\n",
    "            if u < x:\n",
    "                a = u\n",
    "            else:\n",
    "                b = u\n",
    "            if fu <= fw or w == x:\n",
    "                v, fv = w, fw\n",
    "                w, fw = u, fu\n",
    "            elif fu <= fv or v == x or v == w:\n",
    "                v, fv = u, fu\n",
    "\n",
    "        if abs(b - a) < epsilon:\n",
    "            break\n",
    "\n",
    "    return x, fx\n"
   ]
  },
  {
   "cell_type": "markdown",
   "id": "4ed2ab2a",
   "metadata": {},
   "source": []
  },
  {
   "cell_type": "code",
   "execution_count": 22,
   "id": "a0981c52",
   "metadata": {},
   "outputs": [],
   "source": [
    "def fa(x: float):\n",
    "    return -5*x**5 + 4*x**4 - 12*x**3 + 11*x**2 - 2*x + 1\n",
    "\n",
    "def fc(x: float):\n",
    "    return -(np.log(x-2))**2 + (np.log(10-x))**2 - x**0.2\n",
    "\n",
    "def fb(x: float):\n",
    "    return -3*x * np.sin(0.75*x) + np.exp(-2*x)\n",
    "\n",
    "def f4(x: float):\n",
    "    return np.exp(3*x) + 5*np.exp(-2*x)\n",
    "\n",
    "def f5(x: float):\n",
    "    return 0.2*x * np.log(x) + (x-2.3)**2"
   ]
  },
  {
   "cell_type": "markdown",
   "id": "d82eb034",
   "metadata": {},
   "source": []
  },
  {
   "cell_type": "code",
   "execution_count": null,
   "id": "407ba087",
   "metadata": {},
   "outputs": [
    {
     "name": "stdout",
     "output_type": "stream",
     "text": [
      "Явная формула:\n",
      "x_min = 1.9999999999999998, f(x_min) = 4.930380657631324e-32\n"
     ]
    }
   ],
   "source": []
  },
  {
   "cell_type": "markdown",
   "id": "602f5d29",
   "metadata": {},
   "source": []
  },
  {
   "cell_type": "code",
   "execution_count": null,
   "id": "0bcbdd32",
   "metadata": {},
   "outputs": [
    {
     "name": "stdout",
     "output_type": "stream",
     "text": [
      "С использованием numpy.linalg.solve:\n",
      "x_min = 1.9999999999999998, f(x_min) = 4.930380657631324e-32\n"
     ]
    }
   ],
   "source": []
  },
  {
   "cell_type": "markdown",
   "id": "17313d4a",
   "metadata": {},
   "source": []
  },
  {
   "cell_type": "code",
   "execution_count": null,
   "id": "a53d342f",
   "metadata": {},
   "outputs": [],
   "source": []
  },
  {
   "cell_type": "markdown",
   "id": "63316a68",
   "metadata": {},
   "source": []
  },
  {
   "cell_type": "code",
   "execution_count": null,
   "id": "0a9f7dcd",
   "metadata": {},
   "outputs": [],
   "source": []
  }
 ],
 "metadata": {
  "kernelspec": {
   "display_name": ".venv",
   "language": "python",
   "name": "python3"
  },
  "language_info": {
   "codemirror_mode": {
    "name": "ipython",
    "version": 3
   },
   "file_extension": ".py",
   "mimetype": "text/x-python",
   "name": "python",
   "nbconvert_exporter": "python",
   "pygments_lexer": "ipython3",
   "version": "3.12.3"
  }
 },
 "nbformat": 4,
 "nbformat_minor": 5
}
